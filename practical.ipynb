{
  "nbformat": 4,
  "nbformat_minor": 0,
  "metadata": {
    "colab": {
      "provenance": []
    },
    "kernelspec": {
      "name": "python3",
      "display_name": "Python 3"
    },
    "language_info": {
      "name": "python"
    }
  },
  "cells": [
    {
      "cell_type": "markdown",
      "source": [
        "# THEORY QUESTION"
      ],
      "metadata": {
        "id": "40KOtKryVLjX"
      }
    },
    {
      "cell_type": "code",
      "source": [
        "#Q1.\n",
        "#function- A block of code that performs an operation and is independent of objects\n",
        "def greet():\n",
        "    return \"Hello!\"\n",
        "\n",
        "print(greet())"
      ],
      "metadata": {
        "id": "EemKY7BY0-QW"
      },
      "execution_count": null,
      "outputs": []
    },
    {
      "cell_type": "code",
      "source": [
        "#Method- A function that is associated with an object.\n",
        "class Greeter:\n",
        "    def greet(self):\n",
        "        return \"Hello from method!\"\n",
        "\n",
        "obj = Greeter()\n",
        "print(obj.greet())"
      ],
      "metadata": {
        "id": "8Wgjh4I9VshI"
      },
      "execution_count": null,
      "outputs": []
    },
    {
      "cell_type": "code",
      "source": [
        "#Q2.\n",
        "#parameter- Variables defined in the function definition.\n",
        "def add(a, b):\n",
        "    return a + b"
      ],
      "metadata": {
        "colab": {
          "base_uri": "https://localhost:8080/"
        },
        "id": "PUH3LhWUWFun",
        "outputId": "90ec64b9-4d38-435f-c285-f9244bc571fb"
      },
      "execution_count": null,
      "outputs": [
        {
          "output_type": "stream",
          "name": "stdout",
          "text": [
            "5\n"
          ]
        }
      ]
    },
    {
      "cell_type": "code",
      "source": [
        "#argument-Values passed to a function when called.\n",
        "result = add(2, 3)  # Here, 2 and 3 are arguments\n",
        "print(result)"
      ],
      "metadata": {
        "id": "1wYFK4MKWZjx"
      },
      "execution_count": null,
      "outputs": []
    },
    {
      "cell_type": "code",
      "source": [
        "#Q3. What are the different ways to define and call a function in Python?\n",
        "# Define:\n",
        "def say_hello(name):\n",
        "    return f\"Hello, {name}!\"\n",
        "\n",
        "# Call:\n",
        "print(say_hello(\"Alice\"))"
      ],
      "metadata": {
        "id": "iPgkXGAdWaXR"
      },
      "execution_count": null,
      "outputs": []
    },
    {
      "cell_type": "code",
      "source": [
        "#4. What is the purpose of the `return` statement in a Python function?\n",
        "# Used to send a result back to the caller. Example:\n",
        "def square(num):\n",
        "    return num * num\n",
        "\n",
        "print(square(5))"
      ],
      "metadata": {
        "id": "gtZhiBQ-XFLK"
      },
      "execution_count": null,
      "outputs": []
    },
    {
      "cell_type": "code",
      "source": [
        "#Q5. What are iterators in Python and how do they differ from iterables?\n",
        "# Iterable: An object capable of returning its members one by one (e.g., list).\n",
        "# Iterator: An object that represents a stream of data from an iterable.\n",
        "\n",
        "nums = [1, 2, 3]\n",
        "iter_obj = iter(nums)\n",
        "print(next(iter_obj))  # 1\n",
        "print(next(iter_obj))  # 2"
      ],
      "metadata": {
        "id": "8FOxaUNyYFB8"
      },
      "execution_count": null,
      "outputs": []
    },
    {
      "cell_type": "code",
      "source": [
        "# 6. Generators\n",
        "# A special type of iterator defined using `yield`.\n",
        "def generate_numbers():\n",
        "    for i in range(1, 4):\n",
        "        yield i\n",
        "\n",
        "for num in generate_numbers():\n",
        "    print(num)"
      ],
      "metadata": {
        "id": "qU2WDHdSYP9k"
      },
      "execution_count": null,
      "outputs": []
    },
    {
      "cell_type": "code",
      "source": [
        "# 7. Advantages of Generators\n",
        "# Memory-efficient: Hold only one item in memory at a time.\n",
        "# Example:\n",
        "def infinite_sequence():\n",
        "    num = 0\n",
        "    while True:\n",
        "        yield num\n",
        "        num += 1"
      ],
      "metadata": {
        "id": "LCMLPqSWYP59"
      },
      "execution_count": null,
      "outputs": []
    },
    {
      "cell_type": "code",
      "source": [
        "#Q8. Lambda Functions\n",
        "# Anonymous, single-expression functions. Example:\n",
        "square = lambda x: x ** 2\n",
        "print(square(4))"
      ],
      "metadata": {
        "colab": {
          "base_uri": "https://localhost:8080/"
        },
        "id": "aw39olpdYFMc",
        "outputId": "5619adc7-972d-4093-8e71-b19098d2c771"
      },
      "execution_count": null,
      "outputs": [
        {
          "output_type": "stream",
          "name": "stdout",
          "text": [
            "16\n"
          ]
        }
      ]
    },
    {
      "cell_type": "code",
      "source": [
        "#Q9.\n",
        "# Applies a function to all items in an iterable.\n",
        "nums = [1, 2, 3]\n",
        "squared = list(map(lambda x: x ** 2, nums))\n",
        "print(squared)"
      ],
      "metadata": {
        "id": "UvJjMKnAYGI7"
      },
      "execution_count": null,
      "outputs": []
    },
    {
      "cell_type": "code",
      "source": [
        "#Q10. Difference between `map()`, `reduce()`, and `filter()`\n",
        "# `map()`: Transforms items.\n",
        "# `reduce()`: Reduces items to a single value.\n",
        "# `filter()`: Filters items based on a condition.\n",
        "\n",
        "from functools import reduce\n",
        "nums = [47, 11, 42, 13]\n",
        "sum_result = reduce(lambda x, y: x + y, nums)\n",
        "print(sum_result)  # 153"
      ],
      "metadata": {
        "id": "G5PmgEvcYGUV"
      },
      "execution_count": null,
      "outputs": []
    },
    {
      "cell_type": "markdown",
      "source": [
        "#PRACTICAL QUESTIONS"
      ],
      "metadata": {
        "id": "moH7k7MJYATz"
      }
    },
    {
      "cell_type": "code",
      "source": [
        "#1. Write a Python function that takes a list of numbers as input and\n",
        "#returns the sum of all even numbers in the list.\n",
        "def sum_of_even_numbers(numbers):\n",
        "  sum_even = 0\n",
        "  for number in numbers:\n",
        "    if number % 2 == 0:\n",
        "      sum_even += number\n",
        "  return sum_even"
      ],
      "metadata": {
        "id": "W44GpSTz1L28"
      },
      "execution_count": null,
      "outputs": []
    },
    {
      "cell_type": "code",
      "source": [
        "sum_of_even_numbers([3,2,4,6,7,8])"
      ],
      "metadata": {
        "colab": {
          "base_uri": "https://localhost:8080/"
        },
        "id": "xLPbRMTT1FHK",
        "outputId": "0e330127-ba54-4b94-a3c4-759f8ea4f8d0"
      },
      "execution_count": null,
      "outputs": [
        {
          "output_type": "execute_result",
          "data": {
            "text/plain": [
              "20"
            ]
          },
          "metadata": {},
          "execution_count": 4
        }
      ]
    },
    {
      "cell_type": "code",
      "source": [
        "#2. Create a Python function that accepts a string and returns the reverse\n",
        "def string(str):\n",
        "  return str[::-1]"
      ],
      "metadata": {
        "id": "kV8AKMhz1xh9"
      },
      "execution_count": null,
      "outputs": []
    },
    {
      "cell_type": "code",
      "source": [
        "string('hello')"
      ],
      "metadata": {
        "colab": {
          "base_uri": "https://localhost:8080/",
          "height": 36
        },
        "id": "HMF6yd701xlT",
        "outputId": "4e779dde-003f-426a-91e8-0fbe556e38f0"
      },
      "execution_count": null,
      "outputs": [
        {
          "output_type": "execute_result",
          "data": {
            "text/plain": [
              "'olleh'"
            ],
            "application/vnd.google.colaboratory.intrinsic+json": {
              "type": "string"
            }
          },
          "metadata": {},
          "execution_count": 7
        }
      ]
    },
    {
      "cell_type": "code",
      "source": [
        "#3. Implement a Python function that takes a list of integers and\n",
        "#returns a new list containing the squares of each number.\n",
        "def square(numbers):\n",
        "  squares = []\n",
        "  for number in numbers:\n",
        "    squares.append(number ** 2)\n",
        "  return squares"
      ],
      "metadata": {
        "id": "0QUFucKB2G6h"
      },
      "execution_count": null,
      "outputs": []
    },
    {
      "cell_type": "code",
      "source": [
        "square([2,3,4,5,6])"
      ],
      "metadata": {
        "colab": {
          "base_uri": "https://localhost:8080/"
        },
        "id": "D7WkYlq02G9C",
        "outputId": "09c0ba24-eeaa-49c0-da22-dab2c5f18b4c"
      },
      "execution_count": null,
      "outputs": [
        {
          "output_type": "execute_result",
          "data": {
            "text/plain": [
              "[4, 9, 16, 25, 36]"
            ]
          },
          "metadata": {},
          "execution_count": 14
        }
      ]
    },
    {
      "cell_type": "code",
      "source": [
        "#4. Write a Python function that checks if a given number is prime or not from 1 to 200.\n",
        "def prime(number):\n",
        "  if number < 2:\n",
        "    return False\n",
        "  for i in range(2, int(number ** 0.5) + 1):\n",
        "    if number % i == 0:\n",
        "      return False\n",
        "  return True"
      ],
      "metadata": {
        "id": "j6Bd4m-T2G_t"
      },
      "execution_count": null,
      "outputs": []
    },
    {
      "cell_type": "code",
      "source": [
        "#5. Create an iterator class in Python\n",
        "# that generates the Fibonacci sequence up to a specified number of terms.\n",
        "class FibonacciIterator:\n",
        "    def __init__(self, terms):\n",
        "        self.terms = terms\n",
        "        self.a, self.b = 0, 1\n",
        "        self.count = 0\n",
        "\n",
        "    def __iter__(self):\n",
        "        return self\n",
        "\n",
        "    def __next__(self):\n",
        "        if self.count >= self.terms:\n",
        "            raise StopIteration\n",
        "        self.a, self.b = self.b, self.a + self.b\n",
        "        self.count += 1\n",
        "        return self.a\n",
        "\n",
        "# Example usage:\n",
        "fib_iter = FibonacciIterator(10)\n",
        "print(list(fib_iter))  # Output: [1, 1, 2, 3, 5, 8, 13, 21, 34, 55]"
      ],
      "metadata": {
        "id": "_KekO33zZ817"
      },
      "execution_count": null,
      "outputs": []
    },
    {
      "cell_type": "code",
      "source": [
        "#6. Write a generator function in Python\n",
        "#that yields the powers of 2 up to a given exponent.\n",
        "def powers_of_2(up_to):\n",
        "    power = 1\n",
        "    while power <= up_to:\n",
        "        yield power\n",
        "        power *= 2\n",
        "\n",
        "# Example usage:\n",
        "for num in powers_of_2(32):\n",
        "    print(num)  # Output: 1, 2, 4, 8, 16, 32"
      ],
      "metadata": {
        "id": "Lo6qzdakP1zO"
      },
      "execution_count": null,
      "outputs": []
    },
    {
      "cell_type": "code",
      "source": [
        "#7. Implement a generator function that reads a file line by line 4\n",
        "# and yields each line as a string.\n",
        "def read_file_lines(filename):\n",
        "    with open(filename, 'r') as file:\n",
        "        for line in file:\n",
        "            yield line.strip()\n",
        "\n",
        "# Example usage:\n",
        "file_lines = read_file_lines('sample.txt')\n",
        "for line in file_lines:\n",
        "    print(line)"
      ],
      "metadata": {
        "id": "JGR5BvF6Qgwi"
      },
      "execution_count": null,
      "outputs": []
    },
    {
      "cell_type": "code",
      "source": [
        "#8. Use a lambda function in Python to sort a list of tuples\n",
        "#based on the second element of each tuple.\n",
        "data = [(1, 5), (3, 1), (2, 3)]\n",
        "sorted_data = sorted(data, key=lambda x: x[1])\n",
        "print(sorted_data)  # Output: [(3, 1), (2, 3), (1, 5)]"
      ],
      "metadata": {
        "id": "5tNA5u74QsCW"
      },
      "execution_count": null,
      "outputs": []
    },
    {
      "cell_type": "code",
      "source": [
        "#9. Write a Python program that uses `map()` to convert a list of temperatures from Celsius to Fahrenheit.\n",
        "def celsius_to_fahrenheit(celsius):\n",
        "    return (celsius * 9/5) + 32\n",
        "\n",
        "temperatures = [0, 10, 20, 30]\n",
        "fahrenheit_temps = list(map(celsius_to_fahrenheit, temperatures))\n",
        "print(fahrenheit_temps)  # Output: [32.0, 50.0, 68.0, 86.0]"
      ],
      "metadata": {
        "id": "P6vfIJKEQZ49"
      },
      "execution_count": null,
      "outputs": []
    },
    {
      "cell_type": "code",
      "source": [
        "#10.  Create a Python program that uses `filter()` to remove all the vowels from a given string.\n",
        "def remove_vowels(input_str):\n",
        "    vowels = 'aeiouAEIOU'\n",
        "    return ''.join(filter(lambda x: x not in vowels, input_str))\n",
        "\n",
        "input_str = \"Hello World\"\n",
        "result_str = remove_vowels(input_str)\n",
        "print(result_str)  # Output: \"Hll Wrld\""
      ],
      "metadata": {
        "colab": {
          "base_uri": "https://localhost:8080/"
        },
        "id": "hnz4iOi3QLza",
        "outputId": "3359d1d4-fc81-4c0d-b1ae-a855cbd826b8"
      },
      "execution_count": null,
      "outputs": [
        {
          "output_type": "stream",
          "name": "stdout",
          "text": [
            "Hll Wrld\n"
          ]
        }
      ]
    },
    {
      "cell_type": "code",
      "source": [
        "x=5\n",
        "y=x\n",
        "x=10\n",
        "print(y)"
      ],
      "metadata": {
        "id": "Jo90tSPQVltm"
      },
      "execution_count": null,
      "outputs": []
    }
  ]
}
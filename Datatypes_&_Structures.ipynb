{
  "nbformat": 4,
  "nbformat_minor": 0,
  "metadata": {
    "colab": {
      "provenance": []
    },
    "kernelspec": {
      "name": "python3",
      "display_name": "Python 3"
    },
    "language_info": {
      "name": "python"
    }
  },
  "cells": [
    {
      "cell_type": "markdown",
      "source": [
        "##1. What are data structures, and why are they important?\n",
        "\n",
        "Data structures are ways of organizing and storing data efficiently for operations like retrieval, insertion, and deletion. They're crucial for optimizing performance in algorithms and managing data in real-world applications.\n",
        "\n",
        "##2. What is Difference between mutable and immutable data types with examples:\n",
        "\n",
        "Mutable data types can be changed after creation (e.g., lists, sets). Immutable data types cannot be changed (e.g., strings, tuples).\n",
        "##3. What are the main differences between lists and tuples in Python:\n",
        "\n",
        "Lists are mutable (can be changed), while tuples are immutable (cannot be changed). Lists use square brackets [], tuples use parentheses ().\n",
        "\n",
        "##4. Describe how dictionaries store data:\n",
        "\n",
        "Dictionaries store data as key-value pairs, allowing fast lookups using keys.\n",
        "\n",
        "##5. Why might you use a set instead of a list in Python?\n",
        "\n",
        "Sets are unordered collections that automatically remove duplicates, offering faster membership testing.\n",
        "\n",
        "##6. What is a string in Python, and how is it different from a list?\n",
        "\n",
        "A string is an immutable sequence of characters. Unlike lists, strings cannot be modified, and elements are accessed using indexes, but lists can hold different data types.\n",
        "\n",
        "##8. How do tuples ensure data integrity in Python?\n",
        "\n",
        "Since tuples are immutable, their contents cannot be changed after creation, ensuring data integrity.\n",
        "\n",
        "##9. What is a hash table, and how does it relate to dictionaries in Python?\n",
        "\n",
        "A hash table is a data structure that maps keys to values. Python dictionaries use a hash table to store key-value pairs efficiently.\n",
        "\n",
        "##9. Can lists contain different data types in Python?\n",
        "\n",
        "Yes, lists can contain elements of different data types (e.g., integers, strings, lists).\n",
        "\n",
        "##10. Explain Why are strings immutable in Python?\n",
        "\n",
        "Strings are immutable to optimize performance and memory management, ensuring they are hashable and used as dictionary keys.\n",
        "\n",
        "#11. What advantages of dictionaries over lists for certain tasks:\n",
        "\n",
        "Dictionaries allow for faster lookups based on keys, whereas lists require sequential searches.\n",
        "\n",
        "##12. Describe a scenario where a tuple would be preferable over a list:\n",
        "\n",
        "A tuple is preferable when the data should remain unchanged, like storing fixed configuration values or return values from a function.\n",
        "\n",
        "##13. How do sets handle duplicate values in Python?\n",
        "\n",
        "Sets automatically remove duplicates and only store unique elements.\n",
        "\n",
        "##14. How does the “in” keyword work differently for lists and dictionaries?\n",
        "\n",
        "In lists, “in” checks if an element exists in the list. In dictionaries, “in” checks if a key exists in the dictionary.\n",
        "\n",
        "##15. Can you modify the elements of a tuple?\n",
        "\n",
        "No, tuples are immutable, so their elements cannot be changed once defined.\n",
        "\n",
        "##16. What is a nested dictionary, and give an example of its use case?\n",
        "\n",
        "A nested dictionary is a dictionary inside another dictionary. Example: Storing a student's grades in different subjects: {'student1': {'math': 90, 'science': 85}}.\n",
        "\n",
        "##17. Describe the time complexity of accessing elements in a dictionary:\n",
        "\n",
        "Accessing elements in a dictionary is generally O(1) on average, as it uses a hash table for efficient lookups.\n",
        "\n",
        "##18. In what situations are lists preferred over dictionaries?\n",
        "\n",
        "Lists are preferred when order matters or when storing collections of similar items.\n",
        "\n",
        "##19. Why are dictionaries considered unordered, and how does that affect data retrieval?\n",
        "\n",
        "Dictionaries are unordered (before Python 3.7) because elements are stored based on hash values, affecting the order of key-value pairs.\n",
        "\n",
        "##20. Explain the difference between a list and a dictionary in terms of data retrieval:\n",
        "\n",
        "In lists, data is retrieved by index. In dictionaries, data is retrieved by keys. Lists maintain order, whereas dictionaries do not."
      ],
      "metadata": {
        "id": "LfAOySdBFHM-"
      }
    },
    {
      "cell_type": "code",
      "source": [
        "#11. Write a code to create a tuple with the elements 10, 20, 30 and print it\n",
        "my_tuple = (10, 20, 30)\n",
        "print(my_tuple)"
      ],
      "metadata": {
        "colab": {
          "base_uri": "https://localhost:8080/"
        },
        "id": "44VCiBujG3TR",
        "outputId": "b39aa11e-0a36-40b3-ad0f-2608d2752fc3"
      },
      "execution_count": null,
      "outputs": [
        {
          "output_type": "stream",
          "name": "stdout",
          "text": [
            "(10, 20, 30)\n"
          ]
        }
      ]
    },
    {
      "cell_type": "markdown",
      "source": [],
      "metadata": {
        "id": "luwXEmGEFZVf"
      }
    },
    {
      "cell_type": "code",
      "source": [
        "#12. Write a code to access the first element of the tuple ('apple', 'banana', 'cherry').\n",
        "a=('apple', 'banana', 'cherry')\n",
        "a[0]"
      ],
      "metadata": {
        "colab": {
          "base_uri": "https://localhost:8080/",
          "height": 36
        },
        "id": "POelH5_4FREu",
        "outputId": "aa24207e-7025-4dfe-d3b3-b411cb932d50"
      },
      "execution_count": null,
      "outputs": [
        {
          "output_type": "execute_result",
          "data": {
            "text/plain": [
              "'apple'"
            ],
            "application/vnd.google.colaboratory.intrinsic+json": {
              "type": "string"
            }
          },
          "metadata": {},
          "execution_count": 18
        }
      ]
    },
    {
      "cell_type": "code",
      "source": [
        "#13. Write a code to count how many times\n",
        "#the number 2 appears in the tuple (1, 2, 3, 2, 4, 2).\n",
        "b=(1, 2, 3, 2, 4, 2)\n",
        "b.count(2)"
      ],
      "metadata": {
        "id": "aB8PZDDoH_er",
        "colab": {
          "base_uri": "https://localhost:8080/"
        },
        "outputId": "093894f6-254c-4c9a-92d2-76bf94c5d50d"
      },
      "execution_count": null,
      "outputs": [
        {
          "output_type": "execute_result",
          "data": {
            "text/plain": [
              "3"
            ]
          },
          "metadata": {},
          "execution_count": 19
        }
      ]
    },
    {
      "cell_type": "code",
      "source": [
        "#14. Write a code to find the index of the element \"cat\" in the tuple ('dog', 'cat', 'rabbit')\n",
        "c=('dog', 'cat', 'rabbit')\n",
        "c.index(\"cat\")"
      ],
      "metadata": {
        "colab": {
          "base_uri": "https://localhost:8080/"
        },
        "id": "tNrjPmZoH_hI",
        "outputId": "1907682b-4c04-495e-bea0-2a0474b260bd"
      },
      "execution_count": null,
      "outputs": [
        {
          "output_type": "execute_result",
          "data": {
            "text/plain": [
              "1"
            ]
          },
          "metadata": {},
          "execution_count": 20
        }
      ]
    },
    {
      "cell_type": "code",
      "source": [
        "#15. Write a code to check if the element \"banana\" is in the tuple ('apple', 'orange', 'banana').\n",
        "d = ('apple', 'orange', 'banana')\n",
        "print(\"banana\" in d)"
      ],
      "metadata": {
        "id": "lh7Rlxf6H_j_",
        "colab": {
          "base_uri": "https://localhost:8080/"
        },
        "outputId": "06b57313-c048-4455-a3c8-11f58ad4f798"
      },
      "execution_count": null,
      "outputs": [
        {
          "output_type": "stream",
          "name": "stdout",
          "text": [
            "True\n"
          ]
        }
      ]
    },
    {
      "cell_type": "code",
      "source": [
        "#16.Write a code to create a set with the elements 1, 2, 3, 4, 5 and print it.\n",
        "a={1,2,3,4,5}\n",
        "print(a)"
      ],
      "metadata": {
        "colab": {
          "base_uri": "https://localhost:8080/"
        },
        "id": "ptqTWqorH_mx",
        "outputId": "7eb92349-29ee-4543-9e9f-003a3af48efb"
      },
      "execution_count": null,
      "outputs": [
        {
          "output_type": "stream",
          "name": "stdout",
          "text": [
            "{1, 2, 3, 4, 5}\n"
          ]
        }
      ]
    },
    {
      "cell_type": "code",
      "source": [
        "#17. Write a code to add the element 6 to the set {1, 2, 3, 4}.\n",
        "b={1,2,3,4}\n",
        "b.add(6)\n",
        "print(b)"
      ],
      "metadata": {
        "colab": {
          "base_uri": "https://localhost:8080/"
        },
        "id": "yxfP24NaH_pt",
        "outputId": "3cda4309-2e2c-4925-a00f-f4022e3d212d"
      },
      "execution_count": null,
      "outputs": [
        {
          "output_type": "stream",
          "name": "stdout",
          "text": [
            "{1, 2, 3, 4, 6}\n"
          ]
        }
      ]
    },
    {
      "cell_type": "code",
      "source": [
        "#18. Write a code to create a tuple with the elements 10, 20, 30 and print it\n",
        "my_tuple=(10,20,30)\n",
        "print(my_tuple)"
      ],
      "metadata": {
        "colab": {
          "base_uri": "https://localhost:8080/"
        },
        "id": "qdcvHGIGH_tH",
        "outputId": "0f562240-49af-41bf-e7c6-ff97828258d2"
      },
      "execution_count": null,
      "outputs": [
        {
          "output_type": "stream",
          "name": "stdout",
          "text": [
            "(10, 20, 30)\n"
          ]
        }
      ]
    },
    {
      "cell_type": "code",
      "source": [
        "#19. Write a code to access the first element of the tuple ('apple', 'banana', 'cherry').\n",
        "b=('apple', 'banana', 'cherry')\n",
        "b[0]"
      ],
      "metadata": {
        "colab": {
          "base_uri": "https://localhost:8080/",
          "height": 36
        },
        "id": "i9ExqxTKH_zq",
        "outputId": "ebd02b8c-995d-4f64-f162-fd4c58589b54"
      },
      "execution_count": null,
      "outputs": [
        {
          "output_type": "execute_result",
          "data": {
            "text/plain": [
              "'apple'"
            ],
            "application/vnd.google.colaboratory.intrinsic+json": {
              "type": "string"
            }
          },
          "metadata": {},
          "execution_count": 25
        }
      ]
    },
    {
      "cell_type": "code",
      "source": [
        "#20. Write a code to count how many times the number 2 appears in the tuple (1, 2, 3, 2, 4, 2)\n",
        "b=(1, 2, 3, 2, 4, 2)\n",
        "b.count(2)"
      ],
      "metadata": {
        "colab": {
          "base_uri": "https://localhost:8080/"
        },
        "id": "rF3zpjr1I7nn",
        "outputId": "283c2452-41bc-4f8c-9f39-28e3453878d0"
      },
      "execution_count": null,
      "outputs": [
        {
          "output_type": "execute_result",
          "data": {
            "text/plain": [
              "3"
            ]
          },
          "metadata": {},
          "execution_count": 26
        }
      ]
    },
    {
      "cell_type": "code",
      "source": [
        "#21.\tWrite a code to find the index of the element \"cat\" in the tuple ('dog', 'cat', 'rabbit')\n",
        "a=('dog', 'cat', 'rabbit')\n",
        "a.index(\"cat\")"
      ],
      "metadata": {
        "colab": {
          "base_uri": "https://localhost:8080/"
        },
        "id": "RWLCFzHiI7q9",
        "outputId": "07cd4566-d410-4dfc-fd7c-85829522e9be"
      },
      "execution_count": null,
      "outputs": [
        {
          "output_type": "execute_result",
          "data": {
            "text/plain": [
              "1"
            ]
          },
          "metadata": {},
          "execution_count": 27
        }
      ]
    },
    {
      "cell_type": "code",
      "source": [
        "#22. Write a code to check if the element \"banana\" is in the tuple ('apple', 'orange', 'banana')\n",
        "c=('apple', 'orange', 'banana')\n",
        "print(\"banana\" in c)"
      ],
      "metadata": {
        "colab": {
          "base_uri": "https://localhost:8080/"
        },
        "id": "rNnjlbO3I7x_",
        "outputId": "cd0eacc5-98bc-4019-d328-c07269e4caa5"
      },
      "execution_count": null,
      "outputs": [
        {
          "output_type": "stream",
          "name": "stdout",
          "text": [
            "True\n"
          ]
        }
      ]
    },
    {
      "cell_type": "code",
      "source": [
        "#23. Write a code to create a set with the elements 1, 2, 3, 4, 5 and print it.\n",
        "s= {1, 2, 3, 4, 5}\n",
        "print(s)"
      ],
      "metadata": {
        "colab": {
          "base_uri": "https://localhost:8080/"
        },
        "id": "_HJyTCN_EqE5",
        "outputId": "80643075-ce07-4e8e-9175-0d81a71977f6"
      },
      "execution_count": null,
      "outputs": [
        {
          "output_type": "stream",
          "name": "stdout",
          "text": [
            "{1, 2, 3, 4, 5}\n"
          ]
        }
      ]
    },
    {
      "cell_type": "code",
      "source": [
        "#24. Write a code to add the element 6 to the set {1, 2, 3, 4}\n",
        "s1= {1, 2, 3, 4}\n",
        "s1.add(6)\n",
        "print(s1)"
      ],
      "metadata": {
        "colab": {
          "base_uri": "https://localhost:8080/"
        },
        "id": "4Ia3ej1hEqLj",
        "outputId": "d277c6e1-62d5-4247-d650-5011b23b7b28"
      },
      "execution_count": null,
      "outputs": [
        {
          "output_type": "stream",
          "name": "stdout",
          "text": [
            "{1, 2, 3, 4, 6}\n"
          ]
        }
      ]
    }
  ]
}